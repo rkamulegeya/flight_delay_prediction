{
 "cells": [
  {
   "attachments": {},
   "cell_type": "markdown",
   "metadata": {},
   "source": [
    "## Data Collection and Preprocessing:"
   ]
  },
  {
   "cell_type": "code",
   "execution_count": null,
   "metadata": {},
   "outputs": [],
   "source": [
    "# Importing libraries\n",
    "\n",
    "import pandas as pd\n",
    "import numpy as np\n",
    "import matplotlib.pyplot as plt\n",
    "import seaborn as sns\n",
    "import warnings\n",
    "import missingno as msn\n"
   ]
  },
  {
   "cell_type": "code",
   "execution_count": null,
   "metadata": {},
   "outputs": [],
   "source": [
    "from sklearn.model_selection import train_test_split\n",
    "from sklearn.preprocessing import StandardScaler, LabelEncoder\n",
    "from sklearn.metrics import confusion_matrix, accuracy_score\n",
    "from sklearn.ensemble import RandomForestRegressor\n",
    "from sklearn.metrics import mean_squared_error\n",
    "import xgboost as xgb\n",
    "from sklearn.metrics import classification_report\n",
    "import joblib"
   ]
  },
  {
   "cell_type": "code",
   "execution_count": null,
   "metadata": {},
   "outputs": [],
   "source": [
    "# Loading Data\n",
    "\n",
    "train_df = pd.read_csv('Flight_Train.csv')\n",
    "train_df.set_index('ID', inplace=True)\n",
    "test_df = pd.read_csv('Flight_Test.csv')\n",
    "test_df.set_index('ID', inplace=True)"
   ]
  },
  {
   "attachments": {},
   "cell_type": "markdown",
   "metadata": {},
   "source": [
    "### Preview the dataset"
   ]
  },
  {
   "cell_type": "code",
   "execution_count": null,
   "metadata": {},
   "outputs": [
    {
     "data": {
      "text/html": [
       "<div>\n",
       "<style scoped>\n",
       "    .dataframe tbody tr th:only-of-type {\n",
       "        vertical-align: middle;\n",
       "    }\n",
       "\n",
       "    .dataframe tbody tr th {\n",
       "        vertical-align: top;\n",
       "    }\n",
       "\n",
       "    .dataframe thead th {\n",
       "        text-align: right;\n",
       "    }\n",
       "</style>\n",
       "<table border=\"1\" class=\"dataframe\">\n",
       "  <thead>\n",
       "    <tr style=\"text-align: right;\">\n",
       "      <th></th>\n",
       "      <th>DATOP</th>\n",
       "      <th>FLTID</th>\n",
       "      <th>DEPSTN</th>\n",
       "      <th>ARRSTN</th>\n",
       "      <th>STD</th>\n",
       "      <th>STA</th>\n",
       "      <th>STATUS</th>\n",
       "      <th>AC</th>\n",
       "      <th>target</th>\n",
       "    </tr>\n",
       "    <tr>\n",
       "      <th>ID</th>\n",
       "      <th></th>\n",
       "      <th></th>\n",
       "      <th></th>\n",
       "      <th></th>\n",
       "      <th></th>\n",
       "      <th></th>\n",
       "      <th></th>\n",
       "      <th></th>\n",
       "      <th></th>\n",
       "    </tr>\n",
       "  </thead>\n",
       "  <tbody>\n",
       "    <tr>\n",
       "      <th>train_id_0</th>\n",
       "      <td>2016-01-03</td>\n",
       "      <td>TU 0712</td>\n",
       "      <td>CMN</td>\n",
       "      <td>TUN</td>\n",
       "      <td>2016-01-03 10:30:00</td>\n",
       "      <td>2016-01-03 12.55.00</td>\n",
       "      <td>ATA</td>\n",
       "      <td>TU 32AIMN</td>\n",
       "      <td>260.0</td>\n",
       "    </tr>\n",
       "    <tr>\n",
       "      <th>train_id_1</th>\n",
       "      <td>2016-01-13</td>\n",
       "      <td>TU 0757</td>\n",
       "      <td>MXP</td>\n",
       "      <td>TUN</td>\n",
       "      <td>2016-01-13 15:05:00</td>\n",
       "      <td>2016-01-13 16.55.00</td>\n",
       "      <td>ATA</td>\n",
       "      <td>TU 31BIMO</td>\n",
       "      <td>20.0</td>\n",
       "    </tr>\n",
       "    <tr>\n",
       "      <th>train_id_2</th>\n",
       "      <td>2016-01-16</td>\n",
       "      <td>TU 0214</td>\n",
       "      <td>TUN</td>\n",
       "      <td>IST</td>\n",
       "      <td>2016-01-16 04:10:00</td>\n",
       "      <td>2016-01-16 06.45.00</td>\n",
       "      <td>ATA</td>\n",
       "      <td>TU 32AIMN</td>\n",
       "      <td>0.0</td>\n",
       "    </tr>\n",
       "    <tr>\n",
       "      <th>train_id_3</th>\n",
       "      <td>2016-01-17</td>\n",
       "      <td>TU 0480</td>\n",
       "      <td>DJE</td>\n",
       "      <td>NTE</td>\n",
       "      <td>2016-01-17 14:10:00</td>\n",
       "      <td>2016-01-17 17.00.00</td>\n",
       "      <td>ATA</td>\n",
       "      <td>TU 736IOK</td>\n",
       "      <td>0.0</td>\n",
       "    </tr>\n",
       "    <tr>\n",
       "      <th>train_id_4</th>\n",
       "      <td>2016-01-17</td>\n",
       "      <td>TU 0338</td>\n",
       "      <td>TUN</td>\n",
       "      <td>ALG</td>\n",
       "      <td>2016-01-17 14:30:00</td>\n",
       "      <td>2016-01-17 15.50.00</td>\n",
       "      <td>ATA</td>\n",
       "      <td>TU 320IMU</td>\n",
       "      <td>22.0</td>\n",
       "    </tr>\n",
       "  </tbody>\n",
       "</table>\n",
       "</div>"
      ],
      "text/plain": [
       "                 DATOP     FLTID DEPSTN ARRSTN                  STD  \\\n",
       "ID                                                                    \n",
       "train_id_0  2016-01-03  TU 0712     CMN    TUN  2016-01-03 10:30:00   \n",
       "train_id_1  2016-01-13  TU 0757     MXP    TUN  2016-01-13 15:05:00   \n",
       "train_id_2  2016-01-16  TU 0214     TUN    IST  2016-01-16 04:10:00   \n",
       "train_id_3  2016-01-17  TU 0480     DJE    NTE  2016-01-17 14:10:00   \n",
       "train_id_4  2016-01-17  TU 0338     TUN    ALG  2016-01-17 14:30:00   \n",
       "\n",
       "                            STA STATUS         AC  target  \n",
       "ID                                                         \n",
       "train_id_0  2016-01-03 12.55.00    ATA  TU 32AIMN   260.0  \n",
       "train_id_1  2016-01-13 16.55.00    ATA  TU 31BIMO    20.0  \n",
       "train_id_2  2016-01-16 06.45.00    ATA  TU 32AIMN     0.0  \n",
       "train_id_3  2016-01-17 17.00.00    ATA  TU 736IOK     0.0  \n",
       "train_id_4  2016-01-17 15.50.00    ATA  TU 320IMU    22.0  "
      ]
     },
     "metadata": {},
     "output_type": "display_data"
    }
   ],
   "source": [
    "train_df.head()"
   ]
  },
  {
   "cell_type": "code",
   "execution_count": null,
   "metadata": {},
   "outputs": [
    {
     "data": {
      "text/html": [
       "<div>\n",
       "<style scoped>\n",
       "    .dataframe tbody tr th:only-of-type {\n",
       "        vertical-align: middle;\n",
       "    }\n",
       "\n",
       "    .dataframe tbody tr th {\n",
       "        vertical-align: top;\n",
       "    }\n",
       "\n",
       "    .dataframe thead th {\n",
       "        text-align: right;\n",
       "    }\n",
       "</style>\n",
       "<table border=\"1\" class=\"dataframe\">\n",
       "  <thead>\n",
       "    <tr style=\"text-align: right;\">\n",
       "      <th></th>\n",
       "      <th>DATOP</th>\n",
       "      <th>FLTID</th>\n",
       "      <th>DEPSTN</th>\n",
       "      <th>ARRSTN</th>\n",
       "      <th>STD</th>\n",
       "      <th>STA</th>\n",
       "      <th>STATUS</th>\n",
       "      <th>AC</th>\n",
       "      <th>target</th>\n",
       "    </tr>\n",
       "    <tr>\n",
       "      <th>ID</th>\n",
       "      <th></th>\n",
       "      <th></th>\n",
       "      <th></th>\n",
       "      <th></th>\n",
       "      <th></th>\n",
       "      <th></th>\n",
       "      <th></th>\n",
       "      <th></th>\n",
       "      <th></th>\n",
       "    </tr>\n",
       "  </thead>\n",
       "  <tbody>\n",
       "    <tr>\n",
       "      <th>train_id_107828</th>\n",
       "      <td>2018-07-05</td>\n",
       "      <td>WKL 0000</td>\n",
       "      <td>TUN</td>\n",
       "      <td>TUN</td>\n",
       "      <td>2018-07-05 23:00:00</td>\n",
       "      <td>2018-07-06 02.00.00</td>\n",
       "      <td>SCH</td>\n",
       "      <td>TU 32AIML</td>\n",
       "      <td>0.0</td>\n",
       "    </tr>\n",
       "    <tr>\n",
       "      <th>train_id_107829</th>\n",
       "      <td>2018-01-13</td>\n",
       "      <td>UG 0003</td>\n",
       "      <td>DJE</td>\n",
       "      <td>TUN</td>\n",
       "      <td>2018-01-13 08:00:00</td>\n",
       "      <td>2018-01-13 09.00.00</td>\n",
       "      <td>SCH</td>\n",
       "      <td>UG AT7AT7</td>\n",
       "      <td>0.0</td>\n",
       "    </tr>\n",
       "    <tr>\n",
       "      <th>train_id_107830</th>\n",
       "      <td>2018-11-07</td>\n",
       "      <td>SGT 0000</td>\n",
       "      <td>TUN</td>\n",
       "      <td>TUN</td>\n",
       "      <td>2018-11-07 05:00:00</td>\n",
       "      <td>2018-11-07 12.50.00</td>\n",
       "      <td>SCH</td>\n",
       "      <td>TU 736IOK</td>\n",
       "      <td>0.0</td>\n",
       "    </tr>\n",
       "    <tr>\n",
       "      <th>train_id_107831</th>\n",
       "      <td>2018-01-23</td>\n",
       "      <td>UG 0010</td>\n",
       "      <td>TUN</td>\n",
       "      <td>DJE</td>\n",
       "      <td>2018-01-23 18:00:00</td>\n",
       "      <td>2018-01-23 18.45.00</td>\n",
       "      <td>ATA</td>\n",
       "      <td>TU CR9ISA</td>\n",
       "      <td>0.0</td>\n",
       "    </tr>\n",
       "    <tr>\n",
       "      <th>train_id_107832</th>\n",
       "      <td>2018-11-13</td>\n",
       "      <td>UG 0002</td>\n",
       "      <td>TUN</td>\n",
       "      <td>DJE</td>\n",
       "      <td>2018-11-13 06:15:00</td>\n",
       "      <td>2018-11-13 07.05.00</td>\n",
       "      <td>SCH</td>\n",
       "      <td>TU CR9ISA</td>\n",
       "      <td>0.0</td>\n",
       "    </tr>\n",
       "  </tbody>\n",
       "</table>\n",
       "</div>"
      ],
      "text/plain": [
       "                      DATOP      FLTID DEPSTN ARRSTN                  STD  \\\n",
       "ID                                                                          \n",
       "train_id_107828  2018-07-05  WKL 0000     TUN    TUN  2018-07-05 23:00:00   \n",
       "train_id_107829  2018-01-13   UG 0003     DJE    TUN  2018-01-13 08:00:00   \n",
       "train_id_107830  2018-11-07  SGT 0000     TUN    TUN  2018-11-07 05:00:00   \n",
       "train_id_107831  2018-01-23   UG 0010     TUN    DJE  2018-01-23 18:00:00   \n",
       "train_id_107832  2018-11-13   UG 0002     TUN    DJE  2018-11-13 06:15:00   \n",
       "\n",
       "                                 STA STATUS         AC  target  \n",
       "ID                                                              \n",
       "train_id_107828  2018-07-06 02.00.00    SCH  TU 32AIML     0.0  \n",
       "train_id_107829  2018-01-13 09.00.00    SCH  UG AT7AT7     0.0  \n",
       "train_id_107830  2018-11-07 12.50.00    SCH  TU 736IOK     0.0  \n",
       "train_id_107831  2018-01-23 18.45.00    ATA  TU CR9ISA     0.0  \n",
       "train_id_107832  2018-11-13 07.05.00    SCH  TU CR9ISA     0.0  "
      ]
     },
     "metadata": {},
     "output_type": "display_data"
    }
   ],
   "source": [
    "#checking the last few rows\n",
    "train_df.tail()"
   ]
  },
  {
   "cell_type": "code",
   "execution_count": null,
   "metadata": {},
   "outputs": [
    {
     "data": {
      "text/html": [
       "<div>\n",
       "<style scoped>\n",
       "    .dataframe tbody tr th:only-of-type {\n",
       "        vertical-align: middle;\n",
       "    }\n",
       "\n",
       "    .dataframe tbody tr th {\n",
       "        vertical-align: top;\n",
       "    }\n",
       "\n",
       "    .dataframe thead th {\n",
       "        text-align: right;\n",
       "    }\n",
       "</style>\n",
       "<table border=\"1\" class=\"dataframe\">\n",
       "  <thead>\n",
       "    <tr style=\"text-align: right;\">\n",
       "      <th></th>\n",
       "      <th>DATOP</th>\n",
       "      <th>FLTID</th>\n",
       "      <th>DEPSTN</th>\n",
       "      <th>ARRSTN</th>\n",
       "      <th>STD</th>\n",
       "      <th>STA</th>\n",
       "      <th>STATUS</th>\n",
       "      <th>AC</th>\n",
       "    </tr>\n",
       "    <tr>\n",
       "      <th>ID</th>\n",
       "      <th></th>\n",
       "      <th></th>\n",
       "      <th></th>\n",
       "      <th></th>\n",
       "      <th></th>\n",
       "      <th></th>\n",
       "      <th></th>\n",
       "      <th></th>\n",
       "    </tr>\n",
       "  </thead>\n",
       "  <tbody>\n",
       "    <tr>\n",
       "      <th>test_id_0</th>\n",
       "      <td>2016-05-04</td>\n",
       "      <td>TU 0700</td>\n",
       "      <td>DJE</td>\n",
       "      <td>TUN</td>\n",
       "      <td>2016-05-04 06:40:00</td>\n",
       "      <td>2016-05-04 07.30.00</td>\n",
       "      <td>ATA</td>\n",
       "      <td>TU 32AIMF</td>\n",
       "    </tr>\n",
       "    <tr>\n",
       "      <th>test_id_1</th>\n",
       "      <td>2016-05-05</td>\n",
       "      <td>TU 0395</td>\n",
       "      <td>TUN</td>\n",
       "      <td>BKO</td>\n",
       "      <td>2016-05-05 15:20:00</td>\n",
       "      <td>2016-05-05 20.05.00</td>\n",
       "      <td>ATA</td>\n",
       "      <td>TU 320IMW</td>\n",
       "    </tr>\n",
       "    <tr>\n",
       "      <th>test_id_2</th>\n",
       "      <td>2016-05-06</td>\n",
       "      <td>TU 0745</td>\n",
       "      <td>FRA</td>\n",
       "      <td>TUN</td>\n",
       "      <td>2016-05-06 10:00:00</td>\n",
       "      <td>2016-05-06 12.25.00</td>\n",
       "      <td>ATA</td>\n",
       "      <td>TU 32AIMC</td>\n",
       "    </tr>\n",
       "    <tr>\n",
       "      <th>test_id_3</th>\n",
       "      <td>2016-05-11</td>\n",
       "      <td>TU 0848</td>\n",
       "      <td>BEY</td>\n",
       "      <td>TUN</td>\n",
       "      <td>2016-05-11 09:40:00</td>\n",
       "      <td>2016-05-11 13.10.00</td>\n",
       "      <td>ATA</td>\n",
       "      <td>TU 31BIMO</td>\n",
       "    </tr>\n",
       "    <tr>\n",
       "      <th>test_id_4</th>\n",
       "      <td>2016-05-11</td>\n",
       "      <td>TU 0635</td>\n",
       "      <td>ORY</td>\n",
       "      <td>MIR</td>\n",
       "      <td>2016-05-11 09:50:00</td>\n",
       "      <td>2016-05-11 12.35.00</td>\n",
       "      <td>ATA</td>\n",
       "      <td>TU 736IOQ</td>\n",
       "    </tr>\n",
       "  </tbody>\n",
       "</table>\n",
       "</div>"
      ],
      "text/plain": [
       "                DATOP     FLTID DEPSTN ARRSTN                  STD  \\\n",
       "ID                                                                   \n",
       "test_id_0  2016-05-04  TU 0700     DJE    TUN  2016-05-04 06:40:00   \n",
       "test_id_1  2016-05-05  TU 0395     TUN    BKO  2016-05-05 15:20:00   \n",
       "test_id_2  2016-05-06  TU 0745     FRA    TUN  2016-05-06 10:00:00   \n",
       "test_id_3  2016-05-11  TU 0848     BEY    TUN  2016-05-11 09:40:00   \n",
       "test_id_4  2016-05-11  TU 0635     ORY    MIR  2016-05-11 09:50:00   \n",
       "\n",
       "                           STA STATUS         AC  \n",
       "ID                                                \n",
       "test_id_0  2016-05-04 07.30.00    ATA  TU 32AIMF  \n",
       "test_id_1  2016-05-05 20.05.00    ATA  TU 320IMW  \n",
       "test_id_2  2016-05-06 12.25.00    ATA  TU 32AIMC  \n",
       "test_id_3  2016-05-11 13.10.00    ATA  TU 31BIMO  \n",
       "test_id_4  2016-05-11 12.35.00    ATA  TU 736IOQ  "
      ]
     },
     "metadata": {},
     "output_type": "display_data"
    }
   ],
   "source": [
    "test_df.head()"
   ]
  },
  {
   "cell_type": "code",
   "execution_count": null,
   "metadata": {},
   "outputs": [
    {
     "data": {
      "text/html": [
       "<div>\n",
       "<style scoped>\n",
       "    .dataframe tbody tr th:only-of-type {\n",
       "        vertical-align: middle;\n",
       "    }\n",
       "\n",
       "    .dataframe tbody tr th {\n",
       "        vertical-align: top;\n",
       "    }\n",
       "\n",
       "    .dataframe thead th {\n",
       "        text-align: right;\n",
       "    }\n",
       "</style>\n",
       "<table border=\"1\" class=\"dataframe\">\n",
       "  <thead>\n",
       "    <tr style=\"text-align: right;\">\n",
       "      <th></th>\n",
       "      <th>DATOP</th>\n",
       "      <th>FLTID</th>\n",
       "      <th>DEPSTN</th>\n",
       "      <th>ARRSTN</th>\n",
       "      <th>STD</th>\n",
       "      <th>STA</th>\n",
       "      <th>STATUS</th>\n",
       "      <th>AC</th>\n",
       "    </tr>\n",
       "    <tr>\n",
       "      <th>ID</th>\n",
       "      <th></th>\n",
       "      <th></th>\n",
       "      <th></th>\n",
       "      <th></th>\n",
       "      <th></th>\n",
       "      <th></th>\n",
       "      <th></th>\n",
       "      <th></th>\n",
       "    </tr>\n",
       "  </thead>\n",
       "  <tbody>\n",
       "    <tr>\n",
       "      <th>test_id_9328</th>\n",
       "      <td>2018-09-12</td>\n",
       "      <td>TU 0998</td>\n",
       "      <td>TUN</td>\n",
       "      <td>NCE</td>\n",
       "      <td>2018-09-12 14:15:00</td>\n",
       "      <td>2018-09-12 15.45.00</td>\n",
       "      <td>ATA</td>\n",
       "      <td>TU 320IMV</td>\n",
       "    </tr>\n",
       "    <tr>\n",
       "      <th>test_id_9329</th>\n",
       "      <td>2018-09-27</td>\n",
       "      <td>WKL 0000</td>\n",
       "      <td>TUN</td>\n",
       "      <td>TUN</td>\n",
       "      <td>2018-09-27 22:00:00</td>\n",
       "      <td>2018-09-28 01.00.00</td>\n",
       "      <td>SCH</td>\n",
       "      <td>TU 32AIMG</td>\n",
       "    </tr>\n",
       "    <tr>\n",
       "      <th>test_id_9330</th>\n",
       "      <td>2018-09-03</td>\n",
       "      <td>UG 1601</td>\n",
       "      <td>SJJ</td>\n",
       "      <td>TUN</td>\n",
       "      <td>2018-09-03 09:20:00</td>\n",
       "      <td>2018-09-03 11.10.00</td>\n",
       "      <td>SCH</td>\n",
       "      <td>TU CR9ISA</td>\n",
       "    </tr>\n",
       "    <tr>\n",
       "      <th>test_id_9331</th>\n",
       "      <td>2018-09-15</td>\n",
       "      <td>UG 0008</td>\n",
       "      <td>TUN</td>\n",
       "      <td>DJE</td>\n",
       "      <td>2018-09-15 14:30:00</td>\n",
       "      <td>2018-09-15 15.30.00</td>\n",
       "      <td>SCH</td>\n",
       "      <td>UG AT7LBD</td>\n",
       "    </tr>\n",
       "    <tr>\n",
       "      <th>test_id_9332</th>\n",
       "      <td>2018-09-19</td>\n",
       "      <td>UG 0009</td>\n",
       "      <td>DJE</td>\n",
       "      <td>TUN</td>\n",
       "      <td>2018-09-19 16:15:00</td>\n",
       "      <td>2018-09-19 17.15.00</td>\n",
       "      <td>SCH</td>\n",
       "      <td>UG AT7LBD</td>\n",
       "    </tr>\n",
       "  </tbody>\n",
       "</table>\n",
       "</div>"
      ],
      "text/plain": [
       "                   DATOP      FLTID DEPSTN ARRSTN                  STD  \\\n",
       "ID                                                                       \n",
       "test_id_9328  2018-09-12   TU 0998     TUN    NCE  2018-09-12 14:15:00   \n",
       "test_id_9329  2018-09-27  WKL 0000     TUN    TUN  2018-09-27 22:00:00   \n",
       "test_id_9330  2018-09-03   UG 1601     SJJ    TUN  2018-09-03 09:20:00   \n",
       "test_id_9331  2018-09-15   UG 0008     TUN    DJE  2018-09-15 14:30:00   \n",
       "test_id_9332  2018-09-19   UG 0009     DJE    TUN  2018-09-19 16:15:00   \n",
       "\n",
       "                              STA STATUS         AC  \n",
       "ID                                                   \n",
       "test_id_9328  2018-09-12 15.45.00    ATA  TU 320IMV  \n",
       "test_id_9329  2018-09-28 01.00.00    SCH  TU 32AIMG  \n",
       "test_id_9330  2018-09-03 11.10.00    SCH  TU CR9ISA  \n",
       "test_id_9331  2018-09-15 15.30.00    SCH  UG AT7LBD  \n",
       "test_id_9332  2018-09-19 17.15.00    SCH  UG AT7LBD  "
      ]
     },
     "metadata": {},
     "output_type": "display_data"
    }
   ],
   "source": [
    "test_df.tail()"
   ]
  },
  {
   "attachments": {},
   "cell_type": "markdown",
   "metadata": {},
   "source": [
    "##EDA"
   ]
  },
  {
   "cell_type": "code",
   "execution_count": null,
   "metadata": {},
   "outputs": [
    {
     "data": {
      "text/plain": [
       "DATOP      object\n",
       "FLTID      object\n",
       "DEPSTN     object\n",
       "ARRSTN     object\n",
       "STD        object\n",
       "STA        object\n",
       "STATUS     object\n",
       "AC         object\n",
       "target    float64\n",
       "dtype: object"
      ]
     },
     "metadata": {},
     "output_type": "display_data"
    }
   ],
   "source": [
    "train_df.dtypes"
   ]
  },
  {
   "attachments": {},
   "cell_type": "markdown",
   "metadata": {},
   "source": [
    "### View summary of dataset"
   ]
  },
  {
   "cell_type": "code",
   "execution_count": null,
   "metadata": {},
   "outputs": [
    {
     "name": "stdout",
     "output_type": "stream",
     "text": [
      "<class 'pandas.core.frame.DataFrame'>\n",
      "Index: 107833 entries, train_id_0 to train_id_107832\n",
      "Data columns (total 9 columns):\n",
      " #   Column  Non-Null Count   Dtype  \n",
      "---  ------  --------------   -----  \n",
      " 0   DATOP   107833 non-null  object \n",
      " 1   FLTID   107833 non-null  object \n",
      " 2   DEPSTN  107833 non-null  object \n",
      " 3   ARRSTN  107833 non-null  object \n",
      " 4   STD     107833 non-null  object \n",
      " 5   STA     107833 non-null  object \n",
      " 6   STATUS  107833 non-null  object \n",
      " 7   AC      107833 non-null  object \n",
      " 8   target  107833 non-null  float64\n",
      "dtypes: float64(1), object(8)\n",
      "memory usage: 8.2+ MB\n"
     ]
    }
   ],
   "source": [
    "train_df.info()"
   ]
  },
  {
   "cell_type": "code",
   "execution_count": null,
   "metadata": {},
   "outputs": [
    {
     "data": {
      "text/plain": [
       "(107833, 9)"
      ]
     },
     "metadata": {},
     "output_type": "display_data"
    }
   ],
   "source": [
    "train_df.shape\n"
   ]
  },
  {
   "attachments": {},
   "cell_type": "markdown",
   "metadata": {},
   "source": [
    "### Check for missing values in dataset"
   ]
  },
  {
   "cell_type": "code",
   "execution_count": null,
   "metadata": {},
   "outputs": [
    {
     "data": {
      "text/plain": [
       "<Axes: >"
      ]
     },
     "metadata": {},
     "output_type": "display_data"
    },
    {
     "data": {
      "image/png": "[encoded data removed]",
      "text/plain": [
       "<Figure size 2500x1000 with 2 Axes>"
      ]
     },
     "metadata": {},
     "output_type": "display_data"
    }
   ],
   "source": [
    "#visualizing missing data\n",
    "msn.matrix(train_df)"
   ]
  },
  {
   "cell_type": "code",
   "execution_count": null,
   "metadata": {},
   "outputs": [
    {
     "data": {
      "text/plain": [
       "DATOP     0\n",
       "FLTID     0\n",
       "DEPSTN    0\n",
       "ARRSTN    0\n",
       "STD       0\n",
       "STA       0\n",
       "STATUS    0\n",
       "AC        0\n",
       "target    0\n",
       "dtype: int64"
      ]
     },
     "metadata": {},
     "output_type": "display_data"
    }
   ],
   "source": [
    "train_df.isnull().sum()\n"
   ]
  },
  {
   "cell_type": "code",
   "execution_count": null,
   "metadata": {},
   "outputs": [
    {
     "data": {
      "text/plain": [
       "False"
      ]
     },
     "metadata": {},
     "output_type": "display_data"
    }
   ],
   "source": [
    "#Duplicated values\n",
    "data_dup = train_df.duplicated().any()\n",
    "data_dup"
   ]
  },
  {
   "attachments": {},
   "cell_type": "markdown",
   "metadata": {},
   "source": [
    "\n",
    "We can see that, there are 8 character variables (data type = object) and 1 numerical variables (data type = float64).\n"
   ]
  },
  {
   "attachments": {},
   "cell_type": "markdown",
   "metadata": {},
   "source": [
    "### View the statistical summary of numerical variables"
   ]
  },
  {
   "cell_type": "code",
   "execution_count": null,
   "metadata": {},
   "outputs": [
    {
     "data": {
      "text/html": [
       "<div>\n",
       "<style scoped>\n",
       "    .dataframe tbody tr th:only-of-type {\n",
       "        vertical-align: middle;\n",
       "    }\n",
       "\n",
       "    .dataframe tbody tr th {\n",
       "        vertical-align: top;\n",
       "    }\n",
       "\n",
       "    .dataframe thead th {\n",
       "        text-align: right;\n",
       "    }\n",
       "</style>\n",
       "<table border=\"1\" class=\"dataframe\">\n",
       "  <thead>\n",
       "    <tr style=\"text-align: right;\">\n",
       "      <th></th>\n",
       "      <th>target</th>\n",
       "    </tr>\n",
       "  </thead>\n",
       "  <tbody>\n",
       "    <tr>\n",
       "      <th>count</th>\n",
       "      <td>107833.000000</td>\n",
       "    </tr>\n",
       "    <tr>\n",
       "      <th>mean</th>\n",
       "      <td>48.733013</td>\n",
       "    </tr>\n",
       "    <tr>\n",
       "      <th>std</th>\n",
       "      <td>117.135562</td>\n",
       "    </tr>\n",
       "    <tr>\n",
       "      <th>min</th>\n",
       "      <td>0.000000</td>\n",
       "    </tr>\n",
       "    <tr>\n",
       "      <th>25%</th>\n",
       "      <td>0.000000</td>\n",
       "    </tr>\n",
       "    <tr>\n",
       "      <th>50%</th>\n",
       "      <td>14.000000</td>\n",
       "    </tr>\n",
       "    <tr>\n",
       "      <th>75%</th>\n",
       "      <td>43.000000</td>\n",
       "    </tr>\n",
       "    <tr>\n",
       "      <th>max</th>\n",
       "      <td>3451.000000</td>\n",
       "    </tr>\n",
       "  </tbody>\n",
       "</table>\n",
       "</div>"
      ],
      "text/plain": [
       "              target\n",
       "count  107833.000000\n",
       "mean       48.733013\n",
       "std       117.135562\n",
       "min         0.000000\n",
       "25%         0.000000\n",
       "50%        14.000000\n",
       "75%        43.000000\n",
       "max      3451.000000"
      ]
     },
     "metadata": {},
     "output_type": "display_data"
    }
   ],
   "source": [
    "train_df.describe()"
   ]
  },
  {
   "attachments": {},
   "cell_type": "markdown",
   "metadata": {},
   "source": [
    "There are 8 categorical variables in the dataset. exploring them one by one. \n",
    "To iddentify those approximately to unique identifiers (that is 107833)\n",
    "So we can decide if they are dropped or not."
   ]
  },
  {
   "attachments": {},
   "cell_type": "markdown",
   "metadata": {},
   "source": [
    "### Explore `DATOP` variable"
   ]
  },
  {
   "cell_type": "code",
   "execution_count": null,
   "metadata": {},
   "outputs": [
    {
     "data": {
      "text/plain": [
       "array(['2016-01-03', '2016-01-13', '2016-01-16', ..., '2018-12-28',\n",
       "       '2018-12-29', '2018-12-30'], dtype=object)"
      ]
     },
     "metadata": {},
     "output_type": "display_data"
    }
   ],
   "source": [
    "# view the labels in the variable\n",
    "\n",
    "train_df['DATOP'].unique()"
   ]
  },
  {
   "cell_type": "code",
   "execution_count": null,
   "metadata": {},
   "outputs": [
    {
     "data": {
      "text/plain": [
       "1011"
      ]
     },
     "metadata": {},
     "output_type": "display_data"
    }
   ],
   "source": [
    "# view how many different types of variables are there\n",
    "\n",
    "len(train_df['DATOP'].unique())"
   ]
  },
  {
   "attachments": {},
   "cell_type": "markdown",
   "metadata": {},
   "source": [
    "We can see that there are 1011 categories of labels in the ` DATOP` variable."
   ]
  },
  {
   "attachments": {},
   "cell_type": "markdown",
   "metadata": {},
   "source": [
    "### Explore `FLTID` variable"
   ]
  },
  {
   "cell_type": "code",
   "execution_count": null,
   "metadata": {},
   "outputs": [
    {
     "data": {
      "text/plain": [
       "array(['TU 0712 ', 'TU 0757 ', 'TU 0214 ', ..., 'UG 1020 ', 'UG 1501 ',\n",
       "       'UG 1004 '], dtype=object)"
      ]
     },
     "metadata": {},
     "output_type": "display_data"
    }
   ],
   "source": [
    "# view the unique values in the column status_published\n",
    "\n",
    "train_df['FLTID'].unique()"
   ]
  },
  {
   "cell_type": "code",
   "execution_count": null,
   "metadata": {},
   "outputs": [
    {
     "data": {
      "text/plain": [
       "1861"
      ]
     },
     "metadata": {},
     "output_type": "display_data"
    }
   ],
   "source": [
    "# view how many different types of values are there\n",
    "\n",
    "len(train_df['FLTID'].unique())"
   ]
  },
  {
   "attachments": {},
   "cell_type": "markdown",
   "metadata": {},
   "source": [
    "We can see that there are 1861 categories of labels in the ` FLTID` variable."
   ]
  },
  {
   "attachments": {},
   "cell_type": "markdown",
   "metadata": {},
   "source": [
    "### Explore `DEPSTN` variable"
   ]
  },
  {
   "cell_type": "code",
   "execution_count": null,
   "metadata": {},
   "outputs": [
    {
     "data": {
      "text/plain": [
       "array(['CMN', 'MXP', 'TUN', 'DJE', 'TLS', 'IST', 'ORY', 'MIR', 'BRU',\n",
       "       'ABJ', 'VCE', 'AMS', 'FRA', 'BCN', 'JED', 'ALG', 'LIS', 'SXB',\n",
       "       'LYS', 'OUA', 'LGW', 'BEY', 'NCE', 'OPO', 'MRS', 'DUS', 'SFA',\n",
       "       'FCO', 'CDG', 'NKC', 'NTE', 'ZRH', 'GVA', 'OUD', 'MUC', 'SXF',\n",
       "       'HAM', 'NDR', 'NBE', 'CAI', 'BEG', 'VIE', 'ORN', 'MAD', 'TOE',\n",
       "       'BKO', 'DKR', 'KGL', 'BLQ', 'MLA', 'AHU', 'LHR', 'BOD', 'PRG',\n",
       "       'LJU', 'SVO', 'MED', 'BUD', 'ARN', 'CPH', 'CRL', 'OST', 'TNG',\n",
       "       'GAF', 'NAP', 'BRQ', 'OSR', 'YUL', 'NIM', 'TMR', 'JIB', 'CGN',\n",
       "       'EBL', 'GAE', 'BJA', 'AYT', 'RAK', 'LFW', 'LIL', 'PMO', 'FBM',\n",
       "       'TBJ', 'PSA', 'KRT', 'GNB', 'CZL', 'MVB', 'VNO', 'ESB', 'LBV',\n",
       "       'CKY', 'LED', 'KSC', 'BTS', 'AMM', 'OTP', 'TRN', 'IEV', 'HBE',\n",
       "       'CAG', 'KBP', 'ATH', 'SKG', 'ADB', 'DSS', 'DOH', 'COO', 'LUX',\n",
       "       'FIH', 'BYJ', 'KEF', 'EBM', 'BDS', 'AAL', 'VKO', 'AAE', 'BRI',\n",
       "       'VRN', 'SKX', 'HAJ', 'BLL', 'TLL', 'VOG', 'LAD', 'GHA', 'KTW',\n",
       "       'SJJ', 'KRR', 'RTM', 'STR', 'TPS', 'CTA'], dtype=object)"
      ]
     },
     "metadata": {},
     "output_type": "display_data"
    }
   ],
   "source": [
    "# view the labels in the variable\n",
    "\n",
    "train_df ['DEPSTN'].unique()"
   ]
  },
  {
   "cell_type": "code",
   "execution_count": null,
   "metadata": {},
   "outputs": [
    {
     "data": {
      "text/plain": [
       "132"
      ]
     },
     "metadata": {},
     "output_type": "display_data"
    }
   ],
   "source": [
    "# view how many different types of variables are there\n",
    "\n",
    "len(train_df['DEPSTN'].unique())"
   ]
  },
  {
   "attachments": {},
   "cell_type": "markdown",
   "metadata": {},
   "source": [
    "We can see that there are 132 categories of labels in the ` DEPSIN` variable."
   ]
  },
  {
   "attachments": {},
   "cell_type": "markdown",
   "metadata": {},
   "source": [
    "### Explore ` ARRSTN ` variable"
   ]
  },
  {
   "cell_type": "code",
   "execution_count": null,
   "metadata": {},
   "outputs": [
    {
     "data": {
      "text/plain": [
       "array(['TUN', 'IST', 'NTE', 'ALG', 'BCN', 'ORY', 'FCO', 'NCE', 'MRS',\n",
       "       'MED', 'FRA', 'BRU', 'DJE', 'LYS', 'CMN', 'BEG', 'OUA', 'GVA',\n",
       "       'MXP', 'BEY', 'MAD', 'JED', 'ABJ', 'VIE', 'MLA', 'BLQ', 'SFA',\n",
       "       'LIS', 'LHR', 'CDG', 'MIR', 'CAI', 'DUS', 'HAM', 'NBE', 'ZRH',\n",
       "       'AMS', 'NDR', 'TLS', 'VCE', 'SXB', 'MUC', 'LGW', 'CRL', 'ORN',\n",
       "       'DKR', 'BOD', 'SXF', 'LJU', 'OST', 'NKC', 'BKO', 'TOE', 'AHU',\n",
       "       'YUL', 'PRG', 'CPH', 'ARN', 'OUD', 'BRQ', 'GAF', 'JIB', 'BUD',\n",
       "       'OPO', 'KGL', 'NIM', 'SVO', 'LIL', 'OSR', 'EBL', 'TNG', 'PSA',\n",
       "       'CGN', 'AYT', 'GAE', 'NAP', 'BJA', 'KRT', 'LFW', 'TBJ', 'PMO',\n",
       "       'TMR', 'FBM', 'RAK', 'GNB', 'ESB', 'CZL', 'LBV', 'KSC', 'CKY',\n",
       "       'AMM', 'LED', 'BTS', 'MVB', 'HBE', 'OTP', 'CAG', 'VNO', 'TRN',\n",
       "       'ATH', 'ADB', 'SKG', 'BYJ', 'DSS', 'COO', 'IEV', 'LUX', 'KBP',\n",
       "       'DOH', 'FIH', 'EBM', 'BDS', 'VKO', 'AAE', 'BLL', 'HAJ', 'BRI',\n",
       "       'CTA', 'VRN', 'SKX', 'VOG', 'BGY', 'LAD', 'KRR', 'SJJ', 'GHA',\n",
       "       'RTM', 'TPS'], dtype=object)"
      ]
     },
     "metadata": {},
     "output_type": "display_data"
    }
   ],
   "source": [
    "# view the labels in the variable\n",
    "\n",
    "train_df ['ARRSTN'].unique()"
   ]
  },
  {
   "cell_type": "code",
   "execution_count": null,
   "metadata": {},
   "outputs": [
    {
     "data": {
      "text/plain": [
       "128"
      ]
     },
     "metadata": {},
     "output_type": "display_data"
    }
   ],
   "source": [
    "# view how many different types of variables are there\n",
    "\n",
    "len(train_df['ARRSTN'].unique())"
   ]
  },
  {
   "attachments": {},
   "cell_type": "markdown",
   "metadata": {},
   "source": [
    "We can see that there are 128 categories of labels in the ` ARRSTN` variable."
   ]
  },
  {
   "attachments": {},
   "cell_type": "markdown",
   "metadata": {},
   "source": [
    "### Explore `  STD ` variable"
   ]
  },
  {
   "cell_type": "code",
   "execution_count": null,
   "metadata": {},
   "outputs": [
    {
     "data": {
      "text/plain": [
       "array(['2016-01-03 10:30:00', '2016-01-13 15:05:00',\n",
       "       '2016-01-16 04:10:00', ..., '2018-11-07 05:00:00',\n",
       "       '2018-01-23 18:00:00', '2018-11-13 06:15:00'], dtype=object)"
      ]
     },
     "metadata": {},
     "output_type": "display_data"
    }
   ],
   "source": [
    "# view the labels in the variable\n",
    "\n",
    "train_df ['STD'].unique()"
   ]
  },
  {
   "cell_type": "code",
   "execution_count": null,
   "metadata": {},
   "outputs": [
    {
     "data": {
      "text/plain": [
       "81697"
      ]
     },
     "metadata": {},
     "output_type": "display_data"
    }
   ],
   "source": [
    "# view how many different types of variables are there\n",
    "\n",
    "len(train_df['STD'].unique())"
   ]
  },
  {
   "attachments": {},
   "cell_type": "markdown",
   "metadata": {},
   "source": [
    "We can see that there are 81697 categories of labels in the ` STD ` variable."
   ]
  },
  {
   "attachments": {},
   "cell_type": "markdown",
   "metadata": {},
   "source": [
    "### Explore ` STA ` variable"
   ]
  },
  {
   "cell_type": "code",
   "execution_count": null,
   "metadata": {},
   "outputs": [
    {
     "data": {
      "text/plain": [
       "array(['2016-01-03 12.55.00', '2016-01-13 16.55.00',\n",
       "       '2016-01-16 06.45.00', ..., '2018-12-20 01.45.00',\n",
       "       '2018-01-23 18.45.00', '2018-11-13 07.05.00'], dtype=object)"
      ]
     },
     "metadata": {},
     "output_type": "display_data"
    }
   ],
   "source": [
    "# view the labels in the variable\n",
    "\n",
    "train_df ['STA'].unique()"
   ]
  },
  {
   "cell_type": "code",
   "execution_count": null,
   "metadata": {},
   "outputs": [
    {
     "data": {
      "text/plain": [
       "85136"
      ]
     },
     "metadata": {},
     "output_type": "display_data"
    }
   ],
   "source": [
    "# view how many different types of variables are there\n",
    "\n",
    "len(train_df['STA'].unique())"
   ]
  },
  {
   "attachments": {},
   "cell_type": "markdown",
   "metadata": {},
   "source": [
    "We can see that there are 85136 categories of labels in the ` STA ` variable."
   ]
  },
  {
   "attachments": {},
   "cell_type": "markdown",
   "metadata": {},
   "source": [
    "### Explore ` STATUS ` variable"
   ]
  },
  {
   "cell_type": "code",
   "execution_count": null,
   "metadata": {},
   "outputs": [
    {
     "data": {
      "text/plain": [
       "array(['ATA', 'DEP', 'RTR', 'SCH', 'DEL'], dtype=object)"
      ]
     },
     "metadata": {},
     "output_type": "display_data"
    }
   ],
   "source": [
    "# view the labels in the variable\n",
    "\n",
    "train_df ['STATUS'].unique()"
   ]
  },
  {
   "cell_type": "code",
   "execution_count": null,
   "metadata": {},
   "outputs": [
    {
     "data": {
      "text/plain": [
       "5"
      ]
     },
     "metadata": {},
     "output_type": "display_data"
    }
   ],
   "source": [
    "# view how many different types of variables are there\n",
    "\n",
    "len(train_df['STATUS'].unique())"
   ]
  },
  {
   "attachments": {},
   "cell_type": "markdown",
   "metadata": {},
   "source": [
    "We can see that there are 5 categories of labels in the ` STATUS ` variable."
   ]
  },
  {
   "attachments": {},
   "cell_type": "markdown",
   "metadata": {},
   "source": [
    "### Explore `  AC ` variable"
   ]
  },
  {
   "cell_type": "code",
   "execution_count": null,
   "metadata": {},
   "outputs": [
    {
     "data": {
      "text/plain": [
       "array(['TU 32AIMN', 'TU 31BIMO', 'TU 736IOK', 'TU 320IMU', 'TU 736IOP',\n",
       "       'TU 32AIMH', 'TU 32AIMI', 'TU 32AIMC', 'TU 31AIMK', 'TU 32AIMF',\n",
       "       'TU 32AIMP', 'TU 320IMR', 'TU 332IFN', 'TU 31AIMJ', 'TU 320IMT',\n",
       "       'TU 736IOL', 'TU 31BIMQ', 'TU 736IOR', 'TU 320IMV', 'TU 320IMS',\n",
       "       'TU 332IFM', 'TU 320IMW', 'TU 32AIML', 'TU 32AIMD', 'TU 32AIMM',\n",
       "       'TU CR9ISA', 'TU 32AIMG', 'TU 736ION', 'TU 736IOM', 'TU 736IOQ',\n",
       "       '5M 343SUN', 'UG AT7LBD', '5K 343TQY', 'UG AT7LBE', 'UG AT7AT7',\n",
       "       'BJ 320INP', 'BJ 320INH', 'BJ 320INQ', 'BJ 320INA', 'UG CR9XXX',\n",
       "       'UG CR9CR9', 'TU 32A32A', 'BJ 320INB', 'GJ 734CGC', 'QS 738TSC',\n",
       "       'PS 738PSD', 'D4 319CQG', 'BJ 320INR', 'BJ 320INC', 'UJ 320TCF',\n",
       "       '5K 345TFX', 'D4 320CQP', '5M 343JAI', 'GW 320MQH', 'UG CR9ISA',\n",
       "       '6P M87TRJ', 'TU CR9CR9', 'TU CR9XXX', 'GJ 733EWE', 'GJ 734PGC',\n",
       "       'GJ 733GGC', 'GJ 734MGC', 'GJ 733LGC', '5M 343FOX', 'BJ 320INO',\n",
       "       'OL 321ABY', 'X9 320VEB', 'TU 320320'], dtype=object)"
      ]
     },
     "metadata": {},
     "output_type": "display_data"
    }
   ],
   "source": [
    "# view the labels in the variable\n",
    "\n",
    "train_df ['AC'].unique()"
   ]
  },
  {
   "cell_type": "code",
   "execution_count": null,
   "metadata": {},
   "outputs": [
    {
     "data": {
      "text/plain": [
       "68"
      ]
     },
     "metadata": {},
     "output_type": "display_data"
    }
   ],
   "source": [
    "# view how many different types of variables are there\n",
    "\n",
    "len(train_df['AC'].unique())"
   ]
  },
  {
   "attachments": {},
   "cell_type": "markdown",
   "metadata": {},
   "source": [
    "We can see that there are 68 categories of labels in the ` STATUS ` variable."
   ]
  },
  {
   "attachments": {},
   "cell_type": "markdown",
   "metadata": {},
   "source": [
    "## Feature Engineering:"
   ]
  },
  {
   "attachments": {},
   "cell_type": "markdown",
   "metadata": {},
   "source": [
    "### **Declare feature vector and target variable** <a class=\"anchor\" id=\"9\"></a>"
   ]
  },
  {
   "cell_type": "code",
   "execution_count": null,
   "metadata": {},
   "outputs": [],
   "source": [
    "X = train_df\n",
    "\n",
    "y = train_df['target']"
   ]
  },
  {
   "cell_type": "code",
   "execution_count": null,
   "metadata": {},
   "outputs": [
    {
     "data": {
      "text/plain": [
       "(107833,)"
      ]
     },
     "metadata": {},
     "output_type": "display_data"
    }
   ],
   "source": [
    "y.shape"
   ]
  },
  {
   "cell_type": "code",
   "execution_count": null,
   "metadata": {},
   "outputs": [
    {
     "name": "stdout",
     "output_type": "stream",
     "text": [
      "Index(['DATOP', 'FLTID', 'DEPSTN', 'ARRSTN', 'STD', 'STA', 'STATUS', 'AC',\n",
      "       'target'],\n",
      "      dtype='object')\n"
     ]
    }
   ],
   "source": [
    "print(X.columns)"
   ]
  },
  {
   "attachments": {},
   "cell_type": "markdown",
   "metadata": {},
   "source": [
    "### **Convert categorical variable into integers** <a class=\"anchor\" id=\"10\"></a>"
   ]
  },
  {
   "attachments": {},
   "cell_type": "markdown",
   "metadata": {},
   "source": [
    "The Categorical Variables within the dataset are:\n",
    "'DEPSTN', 'ARRSTN','STATUS', 'AC',"
   ]
  },
  {
   "cell_type": "code",
   "execution_count": null,
   "metadata": {},
   "outputs": [],
   "source": [
    "# Initialize LabelEncoder\n",
    "le = LabelEncoder()\n",
    "\n",
    "# Label encode each categorical variable\n",
    "X['DEPSTN'] = le.fit_transform(X['DEPSTN'])\n",
    "X['ARRSTN'] = le.fit_transform(X['ARRSTN'])\n",
    "X['STATUS'] = le.fit_transform(X['STATUS'])\n",
    "X['AC'] = le.fit_transform(X['AC'])"
   ]
  },
  {
   "attachments": {},
   "cell_type": "markdown",
   "metadata": {},
   "source": [
    "### Converting 'DATOP' to datetime format"
   ]
  },
  {
   "cell_type": "code",
   "execution_count": null,
   "metadata": {},
   "outputs": [],
   "source": [
    "X['DATOP'] = pd.to_datetime(X['DATOP'])\n"
   ]
  },
  {
   "cell_type": "code",
   "execution_count": null,
   "metadata": {},
   "outputs": [],
   "source": [
    "X['STA'] = pd.to_datetime(X['STA'], format='%Y-%m-%d %H.%M.%S')\n"
   ]
  },
  {
   "cell_type": "code",
   "execution_count": null,
   "metadata": {},
   "outputs": [],
   "source": [
    "X['STD'] = pd.to_datetime(X['STD'])"
   ]
  },
  {
   "attachments": {},
   "cell_type": "markdown",
   "metadata": {},
   "source": [
    "### Dropping selected variables here \n",
    "### Not important features for predicting flight delays\n"
   ]
  },
  {
   "attachments": {},
   "cell_type": "markdown",
   "metadata": {},
   "source": [
    "### Dropping `FLTID ` variable from the dataset"
   ]
  },
  {
   "cell_type": "code",
   "execution_count": null,
   "metadata": {},
   "outputs": [],
   "source": [
    "train_df.drop(['FLTID'], axis=1, inplace=True)"
   ]
  },
  {
   "attachments": {},
   "cell_type": "markdown",
   "metadata": {},
   "source": [
    "### View the summary of X"
   ]
  },
  {
   "cell_type": "code",
   "execution_count": null,
   "metadata": {},
   "outputs": [
    {
     "name": "stdout",
     "output_type": "stream",
     "text": [
      "<class 'pandas.core.frame.DataFrame'>\n",
      "Index: 107833 entries, train_id_0 to train_id_107832\n",
      "Data columns (total 9 columns):\n",
      " #   Column  Non-Null Count   Dtype         \n",
      "---  ------  --------------   -----         \n",
      " 0   DATOP   107833 non-null  datetime64[ns]\n",
      " 1   FLTID   107833 non-null  object        \n",
      " 2   DEPSTN  107833 non-null  int32         \n",
      " 3   ARRSTN  107833 non-null  int32         \n",
      " 4   STD     107833 non-null  datetime64[ns]\n",
      " 5   STA     107833 non-null  datetime64[ns]\n",
      " 6   STATUS  107833 non-null  int32         \n",
      " 7   AC      107833 non-null  int32         \n",
      " 8   target  107833 non-null  float64       \n",
      "dtypes: datetime64[ns](3), float64(1), int32(4), object(1)\n",
      "memory usage: 10.6+ MB\n"
     ]
    }
   ],
   "source": [
    "X.info()"
   ]
  },
  {
   "attachments": {},
   "cell_type": "markdown",
   "metadata": {},
   "source": [
    "### Preview the dataset X"
   ]
  },
  {
   "cell_type": "code",
   "execution_count": null,
   "metadata": {},
   "outputs": [
    {
     "data": {
      "text/html": [
       "<div>\n",
       "<style scoped>\n",
       "    .dataframe tbody tr th:only-of-type {\n",
       "        vertical-align: middle;\n",
       "    }\n",
       "\n",
       "    .dataframe tbody tr th {\n",
       "        vertical-align: top;\n",
       "    }\n",
       "\n",
       "    .dataframe thead th {\n",
       "        text-align: right;\n",
       "    }\n",
       "</style>\n",
       "<table border=\"1\" class=\"dataframe\">\n",
       "  <thead>\n",
       "    <tr style=\"text-align: right;\">\n",
       "      <th></th>\n",
       "      <th>DATOP</th>\n",
       "      <th>FLTID</th>\n",
       "      <th>DEPSTN</th>\n",
       "      <th>ARRSTN</th>\n",
       "      <th>STD</th>\n",
       "      <th>STA</th>\n",
       "      <th>STATUS</th>\n",
       "      <th>AC</th>\n",
       "      <th>target</th>\n",
       "    </tr>\n",
       "    <tr>\n",
       "      <th>ID</th>\n",
       "      <th></th>\n",
       "      <th></th>\n",
       "      <th></th>\n",
       "      <th></th>\n",
       "      <th></th>\n",
       "      <th></th>\n",
       "      <th></th>\n",
       "      <th></th>\n",
       "      <th></th>\n",
       "    </tr>\n",
       "  </thead>\n",
       "  <tbody>\n",
       "    <tr>\n",
       "      <th>train_id_0</th>\n",
       "      <td>2016-01-03</td>\n",
       "      <td>TU 0712</td>\n",
       "      <td>31</td>\n",
       "      <td>119</td>\n",
       "      <td>2016-01-03 10:30:00</td>\n",
       "      <td>2016-01-03 12:55:00</td>\n",
       "      <td>0</td>\n",
       "      <td>46</td>\n",
       "      <td>260.0</td>\n",
       "    </tr>\n",
       "    <tr>\n",
       "      <th>train_id_1</th>\n",
       "      <td>2016-01-13</td>\n",
       "      <td>TU 0757</td>\n",
       "      <td>86</td>\n",
       "      <td>119</td>\n",
       "      <td>2016-01-13 15:05:00</td>\n",
       "      <td>2016-01-13 16:55:00</td>\n",
       "      <td>0</td>\n",
       "      <td>28</td>\n",
       "      <td>20.0</td>\n",
       "    </tr>\n",
       "    <tr>\n",
       "      <th>train_id_2</th>\n",
       "      <td>2016-01-16</td>\n",
       "      <td>TU 0214</td>\n",
       "      <td>123</td>\n",
       "      <td>58</td>\n",
       "      <td>2016-01-16 04:10:00</td>\n",
       "      <td>2016-01-16 06:45:00</td>\n",
       "      <td>0</td>\n",
       "      <td>46</td>\n",
       "      <td>0.0</td>\n",
       "    </tr>\n",
       "    <tr>\n",
       "      <th>train_id_3</th>\n",
       "      <td>2016-01-17</td>\n",
       "      <td>TU 0480</td>\n",
       "      <td>37</td>\n",
       "      <td>91</td>\n",
       "      <td>2016-01-17 14:10:00</td>\n",
       "      <td>2016-01-17 17:00:00</td>\n",
       "      <td>0</td>\n",
       "      <td>50</td>\n",
       "      <td>0.0</td>\n",
       "    </tr>\n",
       "    <tr>\n",
       "      <th>train_id_4</th>\n",
       "      <td>2016-01-17</td>\n",
       "      <td>TU 0338</td>\n",
       "      <td>123</td>\n",
       "      <td>4</td>\n",
       "      <td>2016-01-17 14:30:00</td>\n",
       "      <td>2016-01-17 15:50:00</td>\n",
       "      <td>0</td>\n",
       "      <td>34</td>\n",
       "      <td>22.0</td>\n",
       "    </tr>\n",
       "  </tbody>\n",
       "</table>\n",
       "</div>"
      ],
      "text/plain": [
       "                DATOP     FLTID  DEPSTN  ARRSTN                 STD  \\\n",
       "ID                                                                    \n",
       "train_id_0 2016-01-03  TU 0712       31     119 2016-01-03 10:30:00   \n",
       "train_id_1 2016-01-13  TU 0757       86     119 2016-01-13 15:05:00   \n",
       "train_id_2 2016-01-16  TU 0214      123      58 2016-01-16 04:10:00   \n",
       "train_id_3 2016-01-17  TU 0480       37      91 2016-01-17 14:10:00   \n",
       "train_id_4 2016-01-17  TU 0338      123       4 2016-01-17 14:30:00   \n",
       "\n",
       "                           STA  STATUS  AC  target  \n",
       "ID                                                  \n",
       "train_id_0 2016-01-03 12:55:00       0  46   260.0  \n",
       "train_id_1 2016-01-13 16:55:00       0  28    20.0  \n",
       "train_id_2 2016-01-16 06:45:00       0  46     0.0  \n",
       "train_id_3 2016-01-17 17:00:00       0  50     0.0  \n",
       "train_id_4 2016-01-17 15:50:00       0  34    22.0  "
      ]
     },
     "metadata": {},
     "output_type": "display_data"
    }
   ],
   "source": [
    "X.head()"
   ]
  },
  {
   "attachments": {},
   "cell_type": "markdown",
   "metadata": {},
   "source": [
    "### Performing correlation analysis:\n",
    "TO identify important features for predicting flight delays\n",
    "\n",
    "\n",
    "Calculate the correlation coefficients between features and the target variable (flight delay duration) using the corr() function:"
   ]
  },
  {
   "cell_type": "code",
   "execution_count": null,
   "metadata": {},
   "outputs": [],
   "source": [
    "correlation_matrix = train_df.corr()"
   ]
  },
  {
   "attachments": {},
   "cell_type": "markdown",
   "metadata": {},
   "source": [
    "Visualize the correlation matrix:\n",
    "Plot the correlation matrix using Matplotlib:"
   ]
  },
  {
   "cell_type": "code",
   "execution_count": null,
   "metadata": {},
   "outputs": [
    {
     "data": {
      "image/png": "[encoded data removed]",
      "text/plain": [
       "<Figure size 1000x800 with 2 Axes>"
      ]
     },
     "metadata": {},
     "output_type": "display_data"
    }
   ],
   "source": [
    "plt.figure(figsize=(10, 8))\n",
    "plt.imshow(correlation_matrix, cmap='coolwarm', interpolation='nearest')\n",
    "plt.colorbar()\n",
    "plt.xticks(range(len(correlation_matrix.columns)), correlation_matrix.columns, rotation=90)\n",
    "plt.yticks(range(len(correlation_matrix.columns)), correlation_matrix.columns)\n",
    "plt.title('Correlation Matrix')\n",
    "plt.show()\n"
   ]
  },
  {
   "attachments": {},
   "cell_type": "markdown",
   "metadata": {},
   "source": [
    "DATOP has got a strong correlaion with STD and STD\n",
    "Therefore seems important for future delay prediction\n",
    "hence column shouldn't be deleted.\n"
   ]
  },
  {
   "attachments": {},
   "cell_type": "markdown",
   "metadata": {},
   "source": [
    "Looking at AC correlation with target.\n",
    "Can column be dropped."
   ]
  },
  {
   "attachments": {},
   "cell_type": "markdown",
   "metadata": {},
   "source": [
    "### Feature Scaling <a class=\"anchor\" id=\"11\"></a>"
   ]
  },
  {
   "cell_type": "code",
   "execution_count": null,
   "metadata": {},
   "outputs": [],
   "source": [
    "cols = X.columns"
   ]
  }
 ],
 "metadata": {
  "kernelspec": {
   "display_name": "Python 3 (ipykernel)",
   "language": "python",
   "name": "python3"
  },
  "language_info": {
   "codemirror_mode": {
    "name": "ipython",
    "version": 3
   },
   "file_extension": ".py",
   "mimetype": "text/x-python",
   "name": "python",
   "nbconvert_exporter": "python",
   "pygments_lexer": "ipython3",
   "version": "3.11.7"
  }
 },
 "nbformat": 4,
 "nbformat_minor": 4
}
